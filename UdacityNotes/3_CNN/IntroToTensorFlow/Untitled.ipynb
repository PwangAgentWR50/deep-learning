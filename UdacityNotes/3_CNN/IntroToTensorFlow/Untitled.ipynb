{
 "cells": [
  {
   "cell_type": "code",
   "execution_count": 1,
   "metadata": {
    "collapsed": true
   },
   "outputs": [],
   "source": [
    "from tensorflow.examples.tutorials.mnist import input_data\n",
    "import numpy as np\n",
    "import math\n",
    "import tensorflow as tf"
   ]
  },
  {
   "cell_type": "code",
   "execution_count": 2,
   "metadata": {
    "collapsed": true
   },
   "outputs": [],
   "source": [
    "def batches(batch_size, features, labels):\n",
    "    assert len(features) == len(labels)\n",
    "    output = []\n",
    "    sample_size = len(features)\n",
    "    for start in range(0, sample_size, batch_size):\n",
    "        end = start + batch_size\n",
    "        output.append([features[start:end], labels[start:end]])\n",
    "    return output"
   ]
  },
  {
   "cell_type": "code",
   "execution_count": 3,
   "metadata": {
    "collapsed": true
   },
   "outputs": [],
   "source": [
    "def print_epoch_stats(epoch_i, sess, last_features, last_labels):\n",
    "    current_cost = sess.run(\n",
    "        cost, feed_dict = {features: last_features, labels: last_labels}\n",
    "    )\n",
    "    valid_accuracy = sess.run(\n",
    "        accuracy, feed_dict = {features: valid_features, labels: valid_labels}\n",
    "    )\n",
    "    print('Epoch: {:<4} - Cost: {:<8.3} Valid Accuracy: {:<5.3}'.format(epoch_i, current_cost, valid_accuracy))"
   ]
  },
  {
   "cell_type": "code",
   "execution_count": 9,
   "metadata": {},
   "outputs": [
    {
     "name": "stdout",
     "output_type": "stream",
     "text": [
      "Extracting datasets/ud730/mnist/train-images-idx3-ubyte.gz\n",
      "Extracting datasets/ud730/mnist/train-labels-idx1-ubyte.gz\n",
      "Extracting datasets/ud730/mnist/t10k-images-idx3-ubyte.gz\n",
      "Extracting datasets/ud730/mnist/t10k-labels-idx1-ubyte.gz\n"
     ]
    }
   ],
   "source": [
    "n_input = 784\n",
    "n_classes = 10\n",
    "\n",
    "mnist = input_data.read_data_sets('datasets/ud730/mnist', one_hot=True)\n",
    "\n",
    "train_features = mnist.train.images\n",
    "valid_features = mnist.validation.images\n",
    "test_features = mnist.test.images\n",
    "\n",
    "train_labels = mnist.train.labels.astype(np.float32)\n",
    "valid_labels = mnist.validation.labels.astype(np.float32)\n",
    "test_labels = mnist.test.labels.astype(np.float32)\n",
    "\n",
    "features = tf.placeholder(tf.float32, [None, n_input])\n",
    "labels = tf.placeholder(tf.float32, [None, n_classes])\n",
    "\n",
    "weights = tf.Variable(tf.random_normal([n_input, n_classes]))\n",
    "bias = tf.Variable(tf.random_normal([n_classes]))\n",
    "\n",
    "logits = tf.add(tf.matmul(features, weights), bias)\n",
    "\n",
    "learning_rate = tf.placeholder(tf.float32)\n",
    "cost = tf.reduce_mean(tf.nn.softmax_cross_entropy_with_logits(logits=logits, labels=labels))\n",
    "optimizer = tf.train.GradientDescentOptimizer(learning_rate=learning_rate).minimize(cost)\n",
    "\n",
    "correct_prediction = tf.equal(tf.argmax(logits, 1), tf.argmax(labels, 1))\n",
    "accuracy = tf.reduce_mean(tf.cast(correct_prediction, tf.float32))\n",
    "\n",
    "batch_size = 128\n",
    "epochs = 100\n",
    "learn_rate = 0.01"
   ]
  },
  {
   "cell_type": "code",
   "execution_count": 10,
   "metadata": {},
   "outputs": [
    {
     "name": "stdout",
     "output_type": "stream",
     "text": [
      "Epoch: 0    - Cost: 6.92     Valid Accuracy: 0.264\n",
      "Epoch: 1    - Cost: 4.89     Valid Accuracy: 0.373\n",
      "Epoch: 2    - Cost: 3.75     Valid Accuracy: 0.475\n",
      "Epoch: 3    - Cost: 3.04     Valid Accuracy: 0.545\n",
      "Epoch: 4    - Cost: 2.57     Valid Accuracy: 0.598\n",
      "Epoch: 5    - Cost: 2.24     Valid Accuracy: 0.636\n",
      "Epoch: 6    - Cost: 1.98     Valid Accuracy: 0.665\n",
      "Epoch: 7    - Cost: 1.79     Valid Accuracy: 0.686\n",
      "Epoch: 8    - Cost: 1.63     Valid Accuracy: 0.702\n",
      "Epoch: 9    - Cost: 1.5      Valid Accuracy: 0.715\n",
      "Epoch: 10   - Cost: 1.4      Valid Accuracy: 0.726\n",
      "Epoch: 11   - Cost: 1.31     Valid Accuracy: 0.737\n",
      "Epoch: 12   - Cost: 1.24     Valid Accuracy: 0.745\n",
      "Epoch: 13   - Cost: 1.18     Valid Accuracy: 0.752\n",
      "Epoch: 14   - Cost: 1.13     Valid Accuracy: 0.761\n",
      "Epoch: 15   - Cost: 1.08     Valid Accuracy: 0.768\n",
      "Epoch: 16   - Cost: 1.04     Valid Accuracy: 0.774\n",
      "Epoch: 17   - Cost: 1.0      Valid Accuracy: 0.781\n",
      "Epoch: 18   - Cost: 0.972    Valid Accuracy: 0.786\n",
      "Epoch: 19   - Cost: 0.943    Valid Accuracy: 0.792\n",
      "Epoch: 20   - Cost: 0.917    Valid Accuracy: 0.797\n",
      "Epoch: 21   - Cost: 0.894    Valid Accuracy: 0.801\n",
      "Epoch: 22   - Cost: 0.872    Valid Accuracy: 0.804\n",
      "Epoch: 23   - Cost: 0.852    Valid Accuracy: 0.808\n",
      "Epoch: 24   - Cost: 0.834    Valid Accuracy: 0.811\n",
      "Epoch: 25   - Cost: 0.818    Valid Accuracy: 0.813\n",
      "Epoch: 26   - Cost: 0.802    Valid Accuracy: 0.816\n",
      "Epoch: 27   - Cost: 0.788    Valid Accuracy: 0.82 \n",
      "Epoch: 28   - Cost: 0.775    Valid Accuracy: 0.824\n",
      "Epoch: 29   - Cost: 0.763    Valid Accuracy: 0.827\n",
      "Epoch: 30   - Cost: 0.751    Valid Accuracy: 0.828\n",
      "Epoch: 31   - Cost: 0.74     Valid Accuracy: 0.829\n",
      "Epoch: 32   - Cost: 0.73     Valid Accuracy: 0.832\n",
      "Epoch: 33   - Cost: 0.721    Valid Accuracy: 0.835\n",
      "Epoch: 34   - Cost: 0.712    Valid Accuracy: 0.836\n",
      "Epoch: 35   - Cost: 0.704    Valid Accuracy: 0.838\n",
      "Epoch: 36   - Cost: 0.696    Valid Accuracy: 0.839\n",
      "Epoch: 37   - Cost: 0.689    Valid Accuracy: 0.841\n",
      "Epoch: 38   - Cost: 0.682    Valid Accuracy: 0.843\n",
      "Epoch: 39   - Cost: 0.675    Valid Accuracy: 0.844\n",
      "Epoch: 40   - Cost: 0.669    Valid Accuracy: 0.846\n",
      "Epoch: 41   - Cost: 0.663    Valid Accuracy: 0.847\n",
      "Epoch: 42   - Cost: 0.658    Valid Accuracy: 0.849\n",
      "Epoch: 43   - Cost: 0.653    Valid Accuracy: 0.85 \n",
      "Epoch: 44   - Cost: 0.648    Valid Accuracy: 0.851\n",
      "Epoch: 45   - Cost: 0.643    Valid Accuracy: 0.852\n",
      "Epoch: 46   - Cost: 0.639    Valid Accuracy: 0.852\n",
      "Epoch: 47   - Cost: 0.635    Valid Accuracy: 0.854\n",
      "Epoch: 48   - Cost: 0.631    Valid Accuracy: 0.854\n",
      "Epoch: 49   - Cost: 0.627    Valid Accuracy: 0.855\n",
      "Epoch: 50   - Cost: 0.623    Valid Accuracy: 0.856\n",
      "Epoch: 51   - Cost: 0.62     Valid Accuracy: 0.857\n",
      "Epoch: 52   - Cost: 0.616    Valid Accuracy: 0.858\n",
      "Epoch: 53   - Cost: 0.613    Valid Accuracy: 0.859\n",
      "Epoch: 54   - Cost: 0.61     Valid Accuracy: 0.86 \n",
      "Epoch: 55   - Cost: 0.607    Valid Accuracy: 0.861\n",
      "Epoch: 56   - Cost: 0.604    Valid Accuracy: 0.862\n",
      "Epoch: 57   - Cost: 0.601    Valid Accuracy: 0.862\n",
      "Epoch: 58   - Cost: 0.599    Valid Accuracy: 0.864\n",
      "Epoch: 59   - Cost: 0.596    Valid Accuracy: 0.864\n",
      "Epoch: 60   - Cost: 0.594    Valid Accuracy: 0.865\n",
      "Epoch: 61   - Cost: 0.591    Valid Accuracy: 0.865\n",
      "Epoch: 62   - Cost: 0.589    Valid Accuracy: 0.866\n",
      "Epoch: 63   - Cost: 0.587    Valid Accuracy: 0.867\n",
      "Epoch: 64   - Cost: 0.585    Valid Accuracy: 0.867\n",
      "Epoch: 65   - Cost: 0.582    Valid Accuracy: 0.867\n",
      "Epoch: 66   - Cost: 0.58     Valid Accuracy: 0.868\n",
      "Epoch: 67   - Cost: 0.578    Valid Accuracy: 0.868\n",
      "Epoch: 68   - Cost: 0.576    Valid Accuracy: 0.869\n",
      "Epoch: 69   - Cost: 0.575    Valid Accuracy: 0.87 \n",
      "Epoch: 70   - Cost: 0.573    Valid Accuracy: 0.871\n",
      "Epoch: 71   - Cost: 0.571    Valid Accuracy: 0.871\n",
      "Epoch: 72   - Cost: 0.569    Valid Accuracy: 0.872\n",
      "Epoch: 73   - Cost: 0.567    Valid Accuracy: 0.872\n",
      "Epoch: 74   - Cost: 0.566    Valid Accuracy: 0.872\n",
      "Epoch: 75   - Cost: 0.564    Valid Accuracy: 0.872\n",
      "Epoch: 76   - Cost: 0.563    Valid Accuracy: 0.873\n",
      "Epoch: 77   - Cost: 0.561    Valid Accuracy: 0.873\n",
      "Epoch: 78   - Cost: 0.56     Valid Accuracy: 0.873\n",
      "Epoch: 79   - Cost: 0.558    Valid Accuracy: 0.874\n",
      "Epoch: 80   - Cost: 0.557    Valid Accuracy: 0.875\n",
      "Epoch: 81   - Cost: 0.556    Valid Accuracy: 0.875\n",
      "Epoch: 82   - Cost: 0.554    Valid Accuracy: 0.875\n",
      "Epoch: 83   - Cost: 0.553    Valid Accuracy: 0.876\n",
      "Epoch: 84   - Cost: 0.552    Valid Accuracy: 0.876\n",
      "Epoch: 85   - Cost: 0.55     Valid Accuracy: 0.876\n",
      "Epoch: 86   - Cost: 0.549    Valid Accuracy: 0.876\n",
      "Epoch: 87   - Cost: 0.548    Valid Accuracy: 0.878\n",
      "Epoch: 88   - Cost: 0.547    Valid Accuracy: 0.878\n",
      "Epoch: 89   - Cost: 0.546    Valid Accuracy: 0.878\n",
      "Epoch: 90   - Cost: 0.545    Valid Accuracy: 0.879\n",
      "Epoch: 91   - Cost: 0.544    Valid Accuracy: 0.88 \n",
      "Epoch: 92   - Cost: 0.543    Valid Accuracy: 0.88 \n",
      "Epoch: 93   - Cost: 0.541    Valid Accuracy: 0.88 \n",
      "Epoch: 94   - Cost: 0.54     Valid Accuracy: 0.88 \n",
      "Epoch: 95   - Cost: 0.539    Valid Accuracy: 0.881\n",
      "Epoch: 96   - Cost: 0.539    Valid Accuracy: 0.881\n",
      "Epoch: 97   - Cost: 0.538    Valid Accuracy: 0.881\n",
      "Epoch: 98   - Cost: 0.537    Valid Accuracy: 0.881\n",
      "Epoch: 99   - Cost: 0.536    Valid Accuracy: 0.881\n",
      "Test Accuracy: 0.8773999810218811\n"
     ]
    }
   ],
   "source": [
    "init = tf.global_variables_initializer()\n",
    "train_batches = batches(batch_size, train_features, train_labels)\n",
    "with tf.Session() as sess:\n",
    "    sess.run(init)\n",
    "    for epoch_i in range(epochs):\n",
    "        for batch_features, batch_labels in train_batches:\n",
    "            train_feed_dict = {\n",
    "                features: batch_features,\n",
    "                labels: batch_labels,\n",
    "                learning_rate: learn_rate\n",
    "            }\n",
    "            sess.run(optimizer, feed_dict = train_feed_dict)\n",
    "            \n",
    "        print_epoch_stats(epoch_i, sess, batch_features, batch_labels)\n",
    "    test_accuracy = sess.run(\n",
    "        accuracy,\n",
    "        feed_dict = {\n",
    "            features: test_features,\n",
    "            labels: test_labels\n",
    "        }\n",
    "    )\n",
    "print('Test Accuracy: {}'.format(test_accuracy))"
   ]
  },
  {
   "cell_type": "code",
   "execution_count": null,
   "metadata": {
    "collapsed": true
   },
   "outputs": [],
   "source": []
  }
 ],
 "metadata": {
  "kernelspec": {
   "display_name": "Python 3",
   "language": "python",
   "name": "python3"
  },
  "language_info": {
   "codemirror_mode": {
    "name": "ipython",
    "version": 3
   },
   "file_extension": ".py",
   "mimetype": "text/x-python",
   "name": "python",
   "nbconvert_exporter": "python",
   "pygments_lexer": "ipython3",
   "version": "3.5.3"
  }
 },
 "nbformat": 4,
 "nbformat_minor": 2
}
